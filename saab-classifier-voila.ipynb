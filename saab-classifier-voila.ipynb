{
 "cells": [
  {
   "cell_type": "code",
   "execution_count": 11,
   "metadata": {
    "scrolled": true
   },
   "outputs": [
    {
     "name": "stdout",
     "output_type": "stream",
     "text": [
      "Requirement already satisfied: voila in /home/bmayr/anaconda3/envs/fastai2/lib/python3.7/site-packages (0.1.21)\n",
      "Requirement already satisfied: nbconvert<6,>=5.5.0 in /home/bmayr/anaconda3/envs/fastai2/lib/python3.7/site-packages (from voila) (5.6.1)\n",
      "Requirement already satisfied: jupyter-server<0.2.0,>=0.1.0 in /home/bmayr/anaconda3/envs/fastai2/lib/python3.7/site-packages (from voila) (0.1.1)\n",
      "Requirement already satisfied: jupyterlab-pygments<0.2,>=0.1.0 in /home/bmayr/anaconda3/envs/fastai2/lib/python3.7/site-packages (from voila) (0.1.0)\n",
      "Requirement already satisfied: async-generator in /home/bmayr/anaconda3/envs/fastai2/lib/python3.7/site-packages (from voila) (1.10)\n",
      "Requirement already satisfied: pygments<3,>=2.4.1 in /home/bmayr/anaconda3/envs/fastai2/lib/python3.7/site-packages (from voila) (2.6.1)\n",
      "Requirement already satisfied: nbformat>=4.4 in /home/bmayr/anaconda3/envs/fastai2/lib/python3.7/site-packages (from nbconvert<6,>=5.5.0->voila) (5.0.4)\n",
      "Requirement already satisfied: jinja2>=2.4 in /home/bmayr/anaconda3/envs/fastai2/lib/python3.7/site-packages (from nbconvert<6,>=5.5.0->voila) (2.11.1)\n",
      "Requirement already satisfied: bleach in /home/bmayr/anaconda3/envs/fastai2/lib/python3.7/site-packages (from nbconvert<6,>=5.5.0->voila) (3.1.0)\n",
      "Requirement already satisfied: traitlets>=4.2 in /home/bmayr/anaconda3/envs/fastai2/lib/python3.7/site-packages (from nbconvert<6,>=5.5.0->voila) (4.3.3)\n",
      "Requirement already satisfied: testpath in /home/bmayr/anaconda3/envs/fastai2/lib/python3.7/site-packages (from nbconvert<6,>=5.5.0->voila) (0.4.4)\n",
      "Requirement already satisfied: defusedxml in /home/bmayr/anaconda3/envs/fastai2/lib/python3.7/site-packages (from nbconvert<6,>=5.5.0->voila) (0.6.0)\n",
      "Requirement already satisfied: mistune<2,>=0.8.1 in /home/bmayr/anaconda3/envs/fastai2/lib/python3.7/site-packages (from nbconvert<6,>=5.5.0->voila) (0.8.4)\n",
      "Requirement already satisfied: entrypoints>=0.2.2 in /home/bmayr/anaconda3/envs/fastai2/lib/python3.7/site-packages (from nbconvert<6,>=5.5.0->voila) (0.3)\n",
      "Requirement already satisfied: pandocfilters>=1.4.1 in /home/bmayr/anaconda3/envs/fastai2/lib/python3.7/site-packages (from nbconvert<6,>=5.5.0->voila) (1.4.2)\n",
      "Requirement already satisfied: jupyter-core in /home/bmayr/anaconda3/envs/fastai2/lib/python3.7/site-packages (from nbconvert<6,>=5.5.0->voila) (4.6.3)\n",
      "Requirement already satisfied: tornado>=4 in /home/bmayr/anaconda3/envs/fastai2/lib/python3.7/site-packages (from jupyter-server<0.2.0,>=0.1.0->voila) (6.0.4)\n",
      "Requirement already satisfied: ipykernel in /home/bmayr/anaconda3/envs/fastai2/lib/python3.7/site-packages (from jupyter-server<0.2.0,>=0.1.0->voila) (5.2.0)\n",
      "Requirement already satisfied: prometheus-client in /home/bmayr/anaconda3/envs/fastai2/lib/python3.7/site-packages (from jupyter-server<0.2.0,>=0.1.0->voila) (0.7.1)\n",
      "Requirement already satisfied: ipython-genutils in /home/bmayr/anaconda3/envs/fastai2/lib/python3.7/site-packages (from jupyter-server<0.2.0,>=0.1.0->voila) (0.2.0)\n",
      "Requirement already satisfied: jupyter-client>=5.3.1 in /home/bmayr/anaconda3/envs/fastai2/lib/python3.7/site-packages (from jupyter-server<0.2.0,>=0.1.0->voila) (6.1.2)\n",
      "Requirement already satisfied: Send2Trash in /home/bmayr/anaconda3/envs/fastai2/lib/python3.7/site-packages (from jupyter-server<0.2.0,>=0.1.0->voila) (1.5.0)\n",
      "Requirement already satisfied: terminado>=0.8.1 in /home/bmayr/anaconda3/envs/fastai2/lib/python3.7/site-packages (from jupyter-server<0.2.0,>=0.1.0->voila) (0.8.3)\n",
      "Requirement already satisfied: pyzmq>=17 in /home/bmayr/anaconda3/envs/fastai2/lib/python3.7/site-packages (from jupyter-server<0.2.0,>=0.1.0->voila) (18.1.1)\n",
      "Requirement already satisfied: jsonschema!=2.5.0,>=2.4 in /home/bmayr/anaconda3/envs/fastai2/lib/python3.7/site-packages (from nbformat>=4.4->nbconvert<6,>=5.5.0->voila) (3.2.0)\n",
      "Requirement already satisfied: MarkupSafe>=0.23 in /home/bmayr/anaconda3/envs/fastai2/lib/python3.7/site-packages (from jinja2>=2.4->nbconvert<6,>=5.5.0->voila) (1.1.1)\n",
      "Requirement already satisfied: six>=1.9.0 in /home/bmayr/anaconda3/envs/fastai2/lib/python3.7/site-packages (from bleach->nbconvert<6,>=5.5.0->voila) (1.14.0)\n",
      "Requirement already satisfied: webencodings in /home/bmayr/anaconda3/envs/fastai2/lib/python3.7/site-packages (from bleach->nbconvert<6,>=5.5.0->voila) (0.5.1)\n",
      "Requirement already satisfied: decorator in /home/bmayr/anaconda3/envs/fastai2/lib/python3.7/site-packages (from traitlets>=4.2->nbconvert<6,>=5.5.0->voila) (4.4.2)\n",
      "Requirement already satisfied: ipython>=5.0.0 in /home/bmayr/anaconda3/envs/fastai2/lib/python3.7/site-packages (from ipykernel->jupyter-server<0.2.0,>=0.1.0->voila) (7.13.0)\n",
      "Requirement already satisfied: python-dateutil>=2.1 in /home/bmayr/anaconda3/envs/fastai2/lib/python3.7/site-packages (from jupyter-client>=5.3.1->jupyter-server<0.2.0,>=0.1.0->voila) (2.8.1)\n",
      "Requirement already satisfied: importlib-metadata; python_version < \"3.8\" in /home/bmayr/anaconda3/envs/fastai2/lib/python3.7/site-packages (from jsonschema!=2.5.0,>=2.4->nbformat>=4.4->nbconvert<6,>=5.5.0->voila) (1.5.0)\n",
      "Requirement already satisfied: setuptools in /home/bmayr/anaconda3/envs/fastai2/lib/python3.7/site-packages (from jsonschema!=2.5.0,>=2.4->nbformat>=4.4->nbconvert<6,>=5.5.0->voila) (46.1.3.post20200330)\n",
      "Requirement already satisfied: pyrsistent>=0.14.0 in /home/bmayr/anaconda3/envs/fastai2/lib/python3.7/site-packages (from jsonschema!=2.5.0,>=2.4->nbformat>=4.4->nbconvert<6,>=5.5.0->voila) (0.16.0)\n",
      "Requirement already satisfied: attrs>=17.4.0 in /home/bmayr/anaconda3/envs/fastai2/lib/python3.7/site-packages (from jsonschema!=2.5.0,>=2.4->nbformat>=4.4->nbconvert<6,>=5.5.0->voila) (19.3.0)\n",
      "Requirement already satisfied: pickleshare in /home/bmayr/anaconda3/envs/fastai2/lib/python3.7/site-packages (from ipython>=5.0.0->ipykernel->jupyter-server<0.2.0,>=0.1.0->voila) (0.7.5)\n",
      "Requirement already satisfied: pexpect; sys_platform != \"win32\" in /home/bmayr/anaconda3/envs/fastai2/lib/python3.7/site-packages (from ipython>=5.0.0->ipykernel->jupyter-server<0.2.0,>=0.1.0->voila) (4.8.0)\n",
      "Requirement already satisfied: prompt-toolkit!=3.0.0,!=3.0.1,<3.1.0,>=2.0.0 in /home/bmayr/anaconda3/envs/fastai2/lib/python3.7/site-packages (from ipython>=5.0.0->ipykernel->jupyter-server<0.2.0,>=0.1.0->voila) (3.0.4)\n",
      "Requirement already satisfied: backcall in /home/bmayr/anaconda3/envs/fastai2/lib/python3.7/site-packages (from ipython>=5.0.0->ipykernel->jupyter-server<0.2.0,>=0.1.0->voila) (0.1.0)\n",
      "Requirement already satisfied: jedi>=0.10 in /home/bmayr/anaconda3/envs/fastai2/lib/python3.7/site-packages (from ipython>=5.0.0->ipykernel->jupyter-server<0.2.0,>=0.1.0->voila) (0.16.0)\n",
      "Requirement already satisfied: zipp>=0.5 in /home/bmayr/anaconda3/envs/fastai2/lib/python3.7/site-packages (from importlib-metadata; python_version < \"3.8\"->jsonschema!=2.5.0,>=2.4->nbformat>=4.4->nbconvert<6,>=5.5.0->voila) (2.2.0)\n",
      "Requirement already satisfied: ptyprocess>=0.5 in /home/bmayr/anaconda3/envs/fastai2/lib/python3.7/site-packages (from pexpect; sys_platform != \"win32\"->ipython>=5.0.0->ipykernel->jupyter-server<0.2.0,>=0.1.0->voila) (0.6.0)\n",
      "Requirement already satisfied: wcwidth in /home/bmayr/anaconda3/envs/fastai2/lib/python3.7/site-packages (from prompt-toolkit!=3.0.0,!=3.0.1,<3.1.0,>=2.0.0->ipython>=5.0.0->ipykernel->jupyter-server<0.2.0,>=0.1.0->voila) (0.1.9)\n",
      "Requirement already satisfied: parso>=0.5.2 in /home/bmayr/anaconda3/envs/fastai2/lib/python3.7/site-packages (from jedi>=0.10->ipython>=5.0.0->ipykernel->jupyter-server<0.2.0,>=0.1.0->voila) (0.6.2)\n",
      "Enabling: voila\n",
      "- Writing config: /home/bmayr/anaconda3/envs/fastai2/etc/jupyter\n",
      "    - Validating...\n",
      "      voila 0.1.21 \u001b[32mOK\u001b[0m\n"
     ]
    }
   ],
   "source": [
    "#hide\n",
    "#!pip install voila\n",
    "#!jupyter serverextension enable voila --sys-prefix"
   ]
  },
  {
   "cell_type": "markdown",
   "metadata": {},
   "source": [
    "# Saab Car Classifier\n",
    "Do you know the former Swedish car manufacturer __*Saab*__?"
   ]
  },
  {
   "cell_type": "code",
   "execution_count": null,
   "metadata": {},
   "outputs": [],
   "source": [
    "#%load_ext autoreload\n",
    "#%autoreload 2"
   ]
  },
  {
   "cell_type": "code",
   "execution_count": 12,
   "metadata": {},
   "outputs": [],
   "source": [
    "from fastai2.vision.all import *\n",
    "from fastai2.vision.widgets import *\n",
    "from voila_utils import *"
   ]
  },
  {
   "cell_type": "code",
   "execution_count": null,
   "metadata": {},
   "outputs": [],
   "source": [
    "learn_inferece = setup_learner()"
   ]
  },
  {
   "cell_type": "code",
   "execution_count": 14,
   "metadata": {},
   "outputs": [
    {
     "data": {
      "application/vnd.jupyter.widget-view+json": {
       "model_id": "b7f0e93b1c0d4407b1b667bc5883b919",
       "version_major": 2,
       "version_minor": 0
      },
      "text/plain": [
       "VBox(children=(Label(value='Select your bear!'), FileUpload(value={}, description='Upload'), Button(descriptio…"
      ]
     },
     "metadata": {},
     "output_type": "display_data"
    }
   ],
   "source": [
    "lbl_pred = widgets.Label()\n",
    "btn_run = widgets.Button(description='Classify')\n",
    "out_pl = widgets.Output()\n",
    "out_pl.clear_output()\n",
    "\n",
    "def on_click_classify(change):\n",
    "    img = PILImage.create(btn_upload.data[-1])\n",
    "    out_pl.clear_output()\n",
    "    with out_pl: display(img.to_thumb(128,128))\n",
    "    pred,pred_idx,probs = learn_inference.predict(img)\n",
    "    lbl_pred.value = f'Prediction: {pred}; Probability: {probs[pred_idx]:.04f}'\n",
    "\n",
    "btn_run.on_click(on_click_classify)\n",
    "btn_upload = widgets.FileUpload()\n",
    "VBox([widgets.Label('Select your favourite Saab!'), \n",
    "      btn_upload, btn_run, out_pl, lbl_pred])"
   ]
  },
  {
   "cell_type": "markdown",
   "metadata": {},
   "source": [
    "Here are some of the wonderful cars:\n",
    "<table>\n",
    "    <tr>\n",
    "        <td><img src=\"https://upload.wikimedia.org/wikipedia/commons/thumb/5/55/Saab_9-3_front_20071019.jpg/500px-Saab_9-3_front_20071019.jpg\" style=\"width:200px\"/></td>\n",
    "        <td><img src=\"https://upload.wikimedia.org/wikipedia/commons/e/ea/Saab-900-Turbo.jpg\" style=\"width:200px\" /></td>\n",
    "        <td><img src=\"https://upload.wikimedia.org/wikipedia/commons/8/8c/Saab_9-3_front_20081126.jpg\" style=\"width:200px\" /></td>        \n",
    "    <tr>\n",
    "        <td><img src=\"https://upload.wikimedia.org/wikipedia/commons/thumb/6/64/Saab_9-5_I_SE_1998_front.JPG/2880px-Saab_9-5_I_SE_1998_front.JPG\" style=\"width:200px\"/></td>\n",
    "        <td><img src=\"https://upload.wikimedia.org/wikipedia/commons/thumb/7/73/1990_Saab_9000_CD_non-turbo.jpg/2880px-1990_Saab_9000_CD_non-turbo.jpg\" style=\"width:200px\"/></td>\n",
    "        <td><img src=\"https://upload.wikimedia.org/wikipedia/commons/1/1f/Saab_9-5_2.0_TiD_Vector_%28II%29_%E2%80%93_Frontansicht%2C_13._M%C3%A4rz_2011%2C_Wuppertal.jpg\" style=\"width:200px\"/></td>\n",
    "    </tr>\n",
    "</table>\n",
    "\n",
    "## This project is capable of classifying these models:\n",
    "\n",
    "* __Saab 900__\n",
    "* __Saab 9000__\n",
    "* __Saab 9-3__\n",
    "* __Saab 9-5__\n",
    "\n",
    "I have build this application with Jupyter Notebooks and Voila. The deep learning framework underneath is fastai. \n",
    "\n",
    "Voila is a very simple framework to convert any Jupyter Notebook with iwidgets into a full-functional web-application. You can run voilà locally if you install the ```voila``` module and enable the jupyer server-extension:\n",
    "```python\n",
    "!pip install voila\n",
    "!jupyter serverextension enable voila --sys-prefix\n",
    "```\n",
    "\n",
    "The easiest way to publish your voilà notebook is to use [binder](https://mybinder.org/).\n",
    "\n",
    "If you would like to check out the code have a look at the project's repository at github: [https://github.com/we-make-ai/saab-model-classifier](https://github.com/we-make-ai/saab-model-classifier)\n",
    "\n",
    "**Now enjoy the show!**\n",
    "\n",
    "Sources:\n",
    "* [fastai](http://www.fastai.com)\n",
    "* [voila](https://voila.readthedocs.io)\n",
    "\n",
    "-------------"
   ]
  }
 ],
 "metadata": {
  "kernelspec": {
   "display_name": "Python 3",
   "language": "python",
   "name": "python3"
  },
  "language_info": {
   "codemirror_mode": {
    "name": "ipython",
    "version": 3
   },
   "file_extension": ".py",
   "mimetype": "text/x-python",
   "name": "python",
   "nbconvert_exporter": "python",
   "pygments_lexer": "ipython3",
   "version": "3.7.7"
  },
  "toc": {
   "base_numbering": 1,
   "nav_menu": {},
   "number_sections": true,
   "sideBar": true,
   "skip_h1_title": false,
   "title_cell": "Table of Contents",
   "title_sidebar": "Contents",
   "toc_cell": false,
   "toc_position": {},
   "toc_section_display": true,
   "toc_window_display": false
  },
  "varInspector": {
   "cols": {
    "lenName": 16,
    "lenType": 16,
    "lenVar": 40
   },
   "kernels_config": {
    "python": {
     "delete_cmd_postfix": "",
     "delete_cmd_prefix": "del ",
     "library": "var_list.py",
     "varRefreshCmd": "print(var_dic_list())"
    },
    "r": {
     "delete_cmd_postfix": ") ",
     "delete_cmd_prefix": "rm(",
     "library": "var_list.r",
     "varRefreshCmd": "cat(var_dic_list()) "
    }
   },
   "types_to_exclude": [
    "module",
    "function",
    "builtin_function_or_method",
    "instance",
    "_Feature"
   ],
   "window_display": false
  }
 },
 "nbformat": 4,
 "nbformat_minor": 4
}
